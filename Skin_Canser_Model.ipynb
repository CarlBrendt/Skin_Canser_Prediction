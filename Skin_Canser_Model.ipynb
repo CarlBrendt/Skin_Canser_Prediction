{
  "nbformat": 4,
  "nbformat_minor": 0,
  "metadata": {
    "colab": {
      "private_outputs": true,
      "provenance": [],
      "gpuType": "T4"
    },
    "kernelspec": {
      "name": "python3",
      "display_name": "Python 3"
    },
    "language_info": {
      "name": "python"
    },
    "accelerator": "GPU"
  },
  "cells": [
    {
      "cell_type": "code",
      "execution_count": null,
      "metadata": {
        "id": "js99fQDGzKCp"
      },
      "outputs": [],
      "source": [
        "import os\n",
        "import zipfile\n",
        "from google.colab import drive"
      ]
    },
    {
      "cell_type": "code",
      "source": [
        "drive.mount('/content/drive')"
      ],
      "metadata": {
        "id": "tubZVo9Y4i2a"
      },
      "execution_count": null,
      "outputs": []
    },
    {
      "cell_type": "code",
      "source": [
        "zip_file = '/content/drive/My Drive/canser.zip'"
      ],
      "metadata": {
        "id": "becy_i4V5NHL"
      },
      "execution_count": null,
      "outputs": []
    },
    {
      "cell_type": "code",
      "source": [
        "z = zipfile.ZipFile(zip_file,'r')"
      ],
      "metadata": {
        "id": "996R2erA5bzQ"
      },
      "execution_count": null,
      "outputs": []
    },
    {
      "cell_type": "code",
      "source": [
        "z.extractall()"
      ],
      "metadata": {
        "id": "wwPcd6la5eLJ"
      },
      "execution_count": null,
      "outputs": []
    },
    {
      "cell_type": "code",
      "source": [
        "import pandas as pd\n",
        "import numpy as np\n",
        "import matplotlib.pyplot as plt\n",
        "import glob\n",
        "import seaborn as sns\n",
        "import cv2\n",
        "from PIL import Image"
      ],
      "metadata": {
        "id": "Y2EZke066yBN"
      },
      "execution_count": null,
      "outputs": []
    },
    {
      "cell_type": "code",
      "source": [
        "skin_df = pd.read_csv('HAM10000_metadata.csv')\n",
        "skin_df.head()"
      ],
      "metadata": {
        "id": "GLAWIVQh7erc"
      },
      "execution_count": null,
      "outputs": []
    },
    {
      "cell_type": "markdown",
      "source": [
        "Classes meanings:\n",
        "   - Melanocytic (nv)\n",
        "   - Melanoma (mel)\n",
        "   - Benign keratosis-like lesions (bkl)\n",
        "   - Basal cell carcinoma (bcc)\n",
        "   - Actinic keratoses (akiec)\n",
        "   - Vascular lesions (vas)\n",
        "   - Dermatofibroma (df)"
      ],
      "metadata": {
        "id": "a8FWZ_js-NT-"
      }
    },
    {
      "cell_type": "code",
      "source": [
        "# label encoding to numeric data from text\n",
        "from sklearn.preprocessing import LabelEncoder\n",
        "\n",
        "SIZE = 64\n",
        "le = LabelEncoder()\n",
        "le.fit(skin_df['dx'])\n",
        "print(list(le.classes_))"
      ],
      "metadata": {
        "id": "OBSZUIUU8FnJ"
      },
      "execution_count": null,
      "outputs": []
    },
    {
      "cell_type": "code",
      "source": [
        "skin_df['label'] = le.transform(skin_df['dx'])\n",
        "skin_df.sample(10)"
      ],
      "metadata": {
        "id": "xj3K7XWD9Tue"
      },
      "execution_count": null,
      "outputs": []
    },
    {
      "cell_type": "markdown",
      "source": [
        "Data distribution visualization"
      ],
      "metadata": {
        "id": "oP3PdFjVAp5X"
      }
    },
    {
      "cell_type": "code",
      "source": [
        "from scipy import stats\n",
        "\n",
        "fig = plt.figure(figsize = (15,10))\n",
        "\n",
        "ax1 = fig.add_subplot(221)\n",
        "skin_df['dx'].value_counts().plot(kind='bar',ax=ax1)\n",
        "ax1.set_ylabel('Count')\n",
        "ax1.set_title('Cell Type')\n",
        "\n",
        "plt.tight_layout()\n",
        "plt.show()\n",
        "\n",
        "# we can see that dataset in unbalanced"
      ],
      "metadata": {
        "id": "kgSFH-Fm-16v"
      },
      "execution_count": null,
      "outputs": []
    },
    {
      "cell_type": "code",
      "source": [
        "skin_df.columns"
      ],
      "metadata": {
        "id": "jEjvYm6QHfxY"
      },
      "execution_count": null,
      "outputs": []
    },
    {
      "cell_type": "code",
      "source": [
        "img = cv2.imread('/content/HAM10000_images_part_1/ISIC_0024307.jpg')\n",
        "img.shape"
      ],
      "metadata": {
        "id": "Jb1BDxrCHZHd"
      },
      "execution_count": null,
      "outputs": []
    },
    {
      "cell_type": "code",
      "source": [
        "plt.imshow(cv2.cvtColor(img,cv2.COLOR_BGR2RGB))\n",
        "plt.show()"
      ],
      "metadata": {
        "id": "fQbltk7OHvlG"
      },
      "execution_count": null,
      "outputs": []
    },
    {
      "cell_type": "code",
      "source": [
        "skin_df = skin_df.dropna()"
      ],
      "metadata": {
        "id": "dvd6zMwhQ4Mj"
      },
      "execution_count": null,
      "outputs": []
    },
    {
      "cell_type": "code",
      "source": [
        "skin_df.drop"
      ],
      "metadata": {
        "id": "CDKh1jPgQRX-"
      },
      "execution_count": null,
      "outputs": []
    },
    {
      "cell_type": "code",
      "source": [
        "# loading images into dataframe\n",
        "from glob import glob\n",
        "\n",
        "image_path = {os.path.splitext(os.path.basename(x))[0]: './HAM10000_images_part_1/' + x\n",
        "              for x in os.listdir('./HAM10000_images_part_1') }\n",
        "\n",
        "for x in os.listdir('./HAM10000_images_part_2'):\n",
        "    image_path.setdefault(x, './HAM10000_images_part_1/' + x)\n",
        "skin_df = skin_df.copy()\n",
        "\n",
        "skin_df['path'] = skin_df['image_id'].map(image_path.get)\n",
        "skin_df = skin_df.dropna()\n",
        "skin_df['image'] = skin_df['path'].map(lambda x: np.asarray(Image.open(x).resize((SIZE,SIZE))))"
      ],
      "metadata": {
        "id": "eoIV6GEwH2f3"
      },
      "execution_count": null,
      "outputs": []
    },
    {
      "cell_type": "code",
      "source": [
        "skin_df.isnull().sum()"
      ],
      "metadata": {
        "id": "X5sey7TkY-Oi"
      },
      "execution_count": null,
      "outputs": []
    },
    {
      "cell_type": "code",
      "source": [
        "# handling imbalanced dataset\n",
        "from sklearn.utils import  resample\n",
        "\n",
        "df_0 = skin_df[skin_df['label'] == 0]\n",
        "df_1 = skin_df[skin_df['label'] == 1]\n",
        "df_2 = skin_df[skin_df['label'] == 2]\n",
        "df_3 = skin_df[skin_df['label'] == 3]\n",
        "df_4 = skin_df[skin_df['label'] == 4]\n",
        "df_5 = skin_df[skin_df['label'] == 5]\n",
        "df_6 = skin_df[skin_df['label'] == 6]\n",
        "\n",
        "n_samples = 500\n",
        "df_0_balanced = resample(df_0,replace=True, n_samples = n_samples, random_state = 42)\n",
        "df_1_balanced = resample(df_1,replace=True, n_samples = n_samples, random_state = 42)\n",
        "df_2_balanced = resample(df_2,replace=True, n_samples = n_samples, random_state = 42)\n",
        "df_3_balanced = resample(df_3,replace=True, n_samples = n_samples, random_state = 42)\n",
        "df_4_balanced = resample(df_4,replace=True, n_samples = n_samples, random_state = 42)\n",
        "df_5_balanced = resample(df_5,replace=True, n_samples = n_samples, random_state = 42)\n",
        "df_6_balanced = resample(df_6,replace=True, n_samples = n_samples, random_state = 42)\n",
        "\n",
        "skin_df_balanced = pd.concat([\n",
        "    df_0_balanced,df_1_balanced,\n",
        "    df_2_balanced,df_3_balanced,\n",
        "    df_4_balanced,df_5_balanced,df_6_balanced,\n",
        "])\n",
        "\n",
        "skin_df_balanced['label'].value_counts()"
      ],
      "metadata": {
        "id": "gi0pIW_gY1l3"
      },
      "execution_count": null,
      "outputs": []
    },
    {
      "cell_type": "code",
      "source": [
        "skin_df_balanced.shape"
      ],
      "metadata": {
        "id": "xmbI4yubO57S"
      },
      "execution_count": null,
      "outputs": []
    },
    {
      "cell_type": "code",
      "source": [
        "n_samples = 5\n",
        "fig, m_axs = plt.subplots(7, n_samples, figsize=(4*n_samples,3*7))\n",
        "for n_axs, (type_name, type_rows) in zip(m_axs,skin_df_balanced.sort_values(['dx']).groupby('dx')):\n",
        "    n_axs[0].set_title(type_name)\n",
        "    for c_ax,(_,c_rows) in zip(n_axs,type_rows.sample(n_samples,random_state=1234).iterrows()):\n",
        "       c_ax.imshow(c_rows['image'])\n",
        "       c_ax.axis('off')"
      ],
      "metadata": {
        "id": "tPGhXO8aaL3Q"
      },
      "execution_count": null,
      "outputs": []
    },
    {
      "cell_type": "code",
      "source": [
        "from tensorflow.keras.utils import to_categorical\n",
        "from sklearn.model_selection import train_test_split\n",
        "\n",
        "x = np.asarray(skin_df_balanced['image'].tolist())\n",
        "x = x/255\n",
        "y = skin_df_balanced['label']\n",
        "y_cat = to_categorical(y, num_classes=7)\n",
        "\n",
        "x_train,x_test,y_train,y_test = train_test_split(x,y_cat,test_size=0.25,random_state = 42)"
      ],
      "metadata": {
        "id": "yMp3p_xujF8L"
      },
      "execution_count": null,
      "outputs": []
    },
    {
      "cell_type": "code",
      "source": [
        "import tensorflow as tf\n",
        "from tensorflow.keras import Sequential\n",
        "from tensorflow.keras.layers import Conv2D, MaxPool2D, Dense, Flatten, Dropout\n",
        "from tensorflow.keras.layers.experimental.preprocessing import RandomFlip, RandomRotation, RandomZoom\n",
        "\n",
        "data_augmentation_layer = Sequential([\n",
        "    RandomFlip('horizontal',input_shape = (SIZE,SIZE,3)),\n",
        "    RandomRotation(0.1),\n",
        "    RandomZoom(0.1)\n",
        "])\n",
        "\n",
        "model = Sequential([\n",
        "\n",
        "    data_augmentation_layer,\n",
        "\n",
        "    Conv2D(filters = 256,kernel_size=(3,3),activation= 'relu',input_shape = (SIZE,SIZE,3)),\n",
        "    MaxPool2D(pool_size=(2,2)),\n",
        "    Dropout(0.3),\n",
        "\n",
        "    Conv2D(filters = 256,kernel_size=(3,3),activation= 'relu'),\n",
        "    MaxPool2D(pool_size=(2,2)),\n",
        "    Dropout(0.3),\n",
        "\n",
        "    Conv2D(filters = 256,kernel_size=(3,3),activation= 'relu'),\n",
        "    MaxPool2D(pool_size=(2,2)),\n",
        "    Dropout(0.3),\n",
        "\n",
        "    Conv2D(filters = 256,kernel_size=(3,3),activation= 'relu',input_shape = (SIZE,SIZE,3)),\n",
        "    MaxPool2D(pool_size=(2,2)),\n",
        "    Dropout(0.3),\n",
        "    Flatten(),\n",
        "\n",
        "    Dense(32,activation='relu'),\n",
        "    Dense(7,activation='softmax')\n",
        "])\n",
        "model.summary()"
      ],
      "metadata": {
        "id": "iSvAUzofnYQY"
      },
      "execution_count": null,
      "outputs": []
    },
    {
      "cell_type": "code",
      "source": [
        "model.compile(\n",
        "    optimizer = 'adam',\n",
        "    loss = 'categorical_crossentropy',\n",
        "    metrics = ['acc']\n",
        ")"
      ],
      "metadata": {
        "id": "np7_rs5grCy4"
      },
      "execution_count": null,
      "outputs": []
    },
    {
      "cell_type": "code",
      "source": [
        "batch_size = 16\n",
        "epochs = 50\n",
        "\n",
        "history = model.fit(x_train, y_train, batch_size=batch_size, epochs = epochs , validation_data=(x_test,y_test),verbose=2)"
      ],
      "metadata": {
        "id": "TGnRBEVarWbi"
      },
      "execution_count": null,
      "outputs": []
    },
    {
      "cell_type": "code",
      "source": [
        "score = model.evaluate(x_test,y_test)\n",
        "score[1]"
      ],
      "metadata": {
        "id": "P3MuOP2er0A1"
      },
      "execution_count": null,
      "outputs": []
    },
    {
      "cell_type": "code",
      "source": [
        "#plot the training and validation accuracy and loss at each epoch\n",
        "loss = history.history['loss']\n",
        "val_loss = history.history['val_loss']\n",
        "epochs = range(1, len(loss) + 1)\n",
        "plt.plot(epochs, loss, 'y', label='Training loss')\n",
        "plt.plot(epochs, val_loss, 'r', label='Validation loss')\n",
        "plt.title('Training and validation loss')\n",
        "plt.xlabel('Epochs')\n",
        "plt.ylabel('Loss')\n",
        "plt.legend()\n",
        "plt.show()"
      ],
      "metadata": {
        "id": "LHAycgFFywHo"
      },
      "execution_count": null,
      "outputs": []
    },
    {
      "cell_type": "code",
      "source": [
        "acc = history.history['acc']\n",
        "val_acc = history.history['val_acc']\n",
        "plt.plot(epochs, acc, 'y', label='Training acc')\n",
        "plt.plot(epochs, val_acc, 'r', label='Validation acc')\n",
        "plt.title('Training and validation accuracy')\n",
        "plt.xlabel('Epochs')\n",
        "plt.ylabel('Accuracy')\n",
        "plt.legend()\n",
        "plt.show()"
      ],
      "metadata": {
        "id": "pXmSZmvd29Tk"
      },
      "execution_count": null,
      "outputs": []
    },
    {
      "cell_type": "code",
      "source": [
        "# Prediction on test data\n",
        "y_pred = model.predict(x_test)\n",
        "# Convert predictions classes to one hot vectors\n",
        "y_pred_classes = np.argmax(y_pred, axis = 1)\n",
        "# Convert test data to one hot vectors\n",
        "y_true = np.argmax(y_test, axis = 1)"
      ],
      "metadata": {
        "id": "3TJnZzio3AHR"
      },
      "execution_count": null,
      "outputs": []
    },
    {
      "cell_type": "code",
      "source": [
        "from sklearn.metrics import classification_report\n",
        "\n",
        "print(classification_report(y_pred_classes, y_true))"
      ],
      "metadata": {
        "id": "rHvi1PSk3dsm"
      },
      "execution_count": null,
      "outputs": []
    },
    {
      "cell_type": "code",
      "source": [
        "from sklearn.metrics import confusion_matrix\n",
        "\n",
        "cm = confusion_matrix(y_true, y_pred_classes)"
      ],
      "metadata": {
        "id": "hdWJGFW13D7v"
      },
      "execution_count": null,
      "outputs": []
    },
    {
      "cell_type": "code",
      "source": [
        "fig, ax = plt.subplots(figsize=(6,6))\n",
        "sns.set(font_scale=1.6)\n",
        "sns.heatmap(cm, annot=True, linewidths=.5, ax=ax)"
      ],
      "metadata": {
        "id": "loa_U4M93TC-"
      },
      "execution_count": null,
      "outputs": []
    },
    {
      "cell_type": "code",
      "source": [
        "#PLot fractional incorrect misclassifications\n",
        "incorr_fraction = 1 - np.diag(cm) / np.sum(cm, axis=1)\n",
        "plt.bar(np.arange(7), incorr_fraction)\n",
        "plt.xlabel('True Label')\n",
        "plt.ylabel('Fraction of incorrect predictions')"
      ],
      "metadata": {
        "id": "gcQn6wuP3WU3"
      },
      "execution_count": null,
      "outputs": []
    },
    {
      "cell_type": "code",
      "source": [
        "model.save(os.path.join('models','skin_model.h5'))"
      ],
      "metadata": {
        "id": "pL_BE9Uj3aQd"
      },
      "execution_count": null,
      "outputs": []
    },
    {
      "cell_type": "code",
      "source": [],
      "metadata": {
        "id": "cOgkZYOC5b5M"
      },
      "execution_count": null,
      "outputs": []
    }
  ]
}